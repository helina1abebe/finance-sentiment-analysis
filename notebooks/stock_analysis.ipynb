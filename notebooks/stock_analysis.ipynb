{
 "cells": [
  {
   "cell_type": "markdown",
   "id": "fd42d41c",
   "metadata": {},
   "source": [
    "# Stock Analysis Notebook"
   ]
  },
  {
   "cell_type": "markdown",
   "id": "c28a7537",
   "metadata": {},
   "source": [
    "### Introduction\n",
    "- In this notebook, we analyze stock data using technical indicators and financial metrics. The results are visualized to provide insights into the stock performance.\n"
   ]
  },
  {
   "cell_type": "code",
   "execution_count": 3,
   "id": "c6effefa",
   "metadata": {},
   "outputs": [],
   "source": [
    "# Add the project root to the Python path\n",
    "import sys\n",
    "from pathlib import Path\n",
    "\n",
    "# Get the project root (adjust as necessary)\n",
    "project_root = Path(\"../\").resolve()\n",
    "if str(project_root) not in sys.path:\n",
    "    sys.path.append(str(project_root))\n"
   ]
  },
  {
   "cell_type": "code",
   "execution_count": 5,
   "id": "e62c00d3",
   "metadata": {},
   "outputs": [],
   "source": [
    "# Import Libraries and Modules\n",
    "from src.data_loader import load_all_stock_data\n",
    "# from src.indicators import add_ta_indicators\n",
    "from src.financial_metrics import calculate_all_metrics\n",
    "from src.visualization import plot_price_with_indicators, plot_rsi, plot_macd"
   ]
  },
  {
   "cell_type": "code",
   "execution_count": 6,
   "id": "b162cf6e",
   "metadata": {},
   "outputs": [
    {
     "name": "stdout",
     "output_type": "stream",
     "text": [
      "Available tickers: ['AAPL', 'AMZN', 'GOOG', 'META', 'MSFT', 'NVDA', 'TSLA']\n"
     ]
    },
    {
     "name": "stderr",
     "output_type": "stream",
     "text": [
      "C:\\Users\\helin\\financial-news-sentiment\\src\\data_loader.py:36: FutureWarning: DataFrame.fillna with 'method' is deprecated and will raise in a future version. Use obj.ffill() or obj.bfill() instead.\n",
      "  df.fillna(method=\"ffill\", inplace=True)  # Forward fill missing values\n",
      "C:\\Users\\helin\\financial-news-sentiment\\src\\data_loader.py:36: FutureWarning: DataFrame.fillna with 'method' is deprecated and will raise in a future version. Use obj.ffill() or obj.bfill() instead.\n",
      "  df.fillna(method=\"ffill\", inplace=True)  # Forward fill missing values\n",
      "C:\\Users\\helin\\financial-news-sentiment\\src\\data_loader.py:36: FutureWarning: DataFrame.fillna with 'method' is deprecated and will raise in a future version. Use obj.ffill() or obj.bfill() instead.\n",
      "  df.fillna(method=\"ffill\", inplace=True)  # Forward fill missing values\n",
      "C:\\Users\\helin\\financial-news-sentiment\\src\\data_loader.py:36: FutureWarning: DataFrame.fillna with 'method' is deprecated and will raise in a future version. Use obj.ffill() or obj.bfill() instead.\n",
      "  df.fillna(method=\"ffill\", inplace=True)  # Forward fill missing values\n",
      "C:\\Users\\helin\\financial-news-sentiment\\src\\data_loader.py:36: FutureWarning: DataFrame.fillna with 'method' is deprecated and will raise in a future version. Use obj.ffill() or obj.bfill() instead.\n",
      "  df.fillna(method=\"ffill\", inplace=True)  # Forward fill missing values\n",
      "C:\\Users\\helin\\financial-news-sentiment\\src\\data_loader.py:36: FutureWarning: DataFrame.fillna with 'method' is deprecated and will raise in a future version. Use obj.ffill() or obj.bfill() instead.\n",
      "  df.fillna(method=\"ffill\", inplace=True)  # Forward fill missing values\n",
      "C:\\Users\\helin\\financial-news-sentiment\\src\\data_loader.py:36: FutureWarning: DataFrame.fillna with 'method' is deprecated and will raise in a future version. Use obj.ffill() or obj.bfill() instead.\n",
      "  df.fillna(method=\"ffill\", inplace=True)  # Forward fill missing values\n"
     ]
    }
   ],
   "source": [
    "# ### Load Data\n",
    "# Load all stock data from the raw data folder.\n",
    "# Update the path to match your local file structure.\n",
    "stock_data = load_all_stock_data('../data/raw/yfinance_data')\n",
    "\n",
    "# Display available tickers\n",
    "tickers = list(stock_data.keys())\n",
    "print(f\"Available tickers: {tickers}\")\n"
   ]
  },
  {
   "cell_type": "code",
   "execution_count": null,
   "id": "48b1004e",
   "metadata": {},
   "outputs": [],
   "source": [
    "# ### Process and Analyze All Stocks\n",
    "for ticker, df in stock_data.items():\n",
    "    print(f\"Processing {ticker}...\")\n",
    "\n",
    "    # Add technical indicators\n",
    "    #df = add_ta_indicators(df)\n",
    "\n",
    "    # Calculate financial metrics\n",
    "    metrics = calculate_all_metrics(df)\n",
    "\n",
    "    # Display metrics\n",
    "    print(f\"Metrics for {ticker}:\")\n",
    "    for key, value in metrics.items():\n",
    "        print(f\"{key}: {value:.2f}\")\n",
    "\n",
    "    # Visualize results\n",
    "    plot_price_with_indicators(df, ticker)\n",
    "    plot_rsi(df, ticker)\n",
    "    plot_macd(df, ticker)\n"
   ]
  }
 ],
 "metadata": {
  "kernelspec": {
   "display_name": ".venv",
   "language": "python",
   "name": "python3"
  },
  "language_info": {
   "codemirror_mode": {
    "name": "ipython",
    "version": 3
   },
   "file_extension": ".py",
   "mimetype": "text/x-python",
   "name": "python",
   "nbconvert_exporter": "python",
   "pygments_lexer": "ipython3",
   "version": "3.11.0"
  }
 },
 "nbformat": 4,
 "nbformat_minor": 5
}
